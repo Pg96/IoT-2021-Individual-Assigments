{
 "cells": [
  {
   "cell_type": "markdown",
   "metadata": {},
   "source": [
    "## IoT 2021 - Assignment #2\n",
    "\n",
    "#### Radio settings\n",
    "\n",
    "If you are running this training at the same time as other people on the testbed, it is a good idea to change the default radio configuration to avoid too much collision with others.\n",
    "\n",
    "Use the following cell to give you random values for channel and PAN ID."
   ]
  },
  {
   "cell_type": "code",
   "execution_count": null,
   "metadata": {},
   "outputs": [],
   "source": [
    "%env SITE=saclay"
   ]
  },
  {
   "cell_type": "code",
   "execution_count": null,
   "metadata": {},
   "outputs": [],
   "source": [
    "!whoami"
   ]
  },
  {
   "cell_type": "code",
   "execution_count": null,
   "metadata": {},
   "outputs": [],
   "source": [
    "import os,binascii,random\n",
    "pan_id = binascii.b2a_hex(os.urandom(2)).decode()\n",
    "channel = random.randint(11, 26)\n",
    "print('Use CHANNEL={}, PAN_ID=0x{}'.format(channel, pan_id))"
   ]
  },
  {
   "cell_type": "code",
   "execution_count": null,
   "metadata": {},
   "outputs": [],
   "source": [
    "print(channel)"
   ]
  },
  {
   "cell_type": "code",
   "execution_count": null,
   "metadata": {},
   "outputs": [],
   "source": [
    "%env CHANNEL=22"
   ]
  },
  {
   "cell_type": "code",
   "execution_count": null,
   "metadata": {},
   "outputs": [],
   "source": [
    "%env PAN_ID=0xc1fc"
   ]
  },
  {
   "cell_type": "markdown",
   "metadata": {},
   "source": [
    "## Submit an experiment on IoT-LAB"
   ]
  },
  {
   "cell_type": "markdown",
   "metadata": {},
   "source": [
    "We reserve the following nodes:\n",
    "* 1 a8 node that will act as MQTT/SN broker and Transparent Bridge to the IoT Core\n",
    "* 1 m3 node that will act as border router\n",
    "* 2+ m3 nodes that will run the application"
   ]
  },
  {
   "cell_type": "code",
   "execution_count": null,
   "metadata": {},
   "outputs": [],
   "source": [
    "!iotlab-experiment submit -n riot_m3 -d 120 -l 4,archi=m3:at86rf231+site=$SITE -l 1,archi=a8:at86rf231+site=$SITE"
   ]
  },
  {
   "cell_type": "code",
   "execution_count": null,
   "metadata": {},
   "outputs": [],
   "source": [
    "!iotlab-experiment wait --timeout 60 --cancel-on-timeout"
   ]
  },
  {
   "cell_type": "markdown",
   "metadata": {},
   "source": [
    "Get basic info about the reserved nodes:"
   ]
  },
  {
   "cell_type": "code",
   "execution_count": null,
   "metadata": {},
   "outputs": [],
   "source": [
    "!iotlab-experiment --jmespath=\"items[*].network_address | sort(@)\" get --nodes"
   ]
  },
  {
   "cell_type": "markdown",
   "metadata": {},
   "source": [
    "Use the following commands for additional info about the reserved nodes:"
   ]
  },
  {
   "cell_type": "code",
   "execution_count": null,
   "metadata": {},
   "outputs": [],
   "source": [
    "!iotlab-experiment get -i <EXPERIMENT_ID> -p"
   ]
  },
  {
   "cell_type": "code",
   "execution_count": null,
   "metadata": {},
   "outputs": [],
   "source": [
    "!iotlab-experiment get -i <EXPERIMENT_ID> -n"
   ]
  },
  {
   "cell_type": "markdown",
   "metadata": {},
   "source": [
    "### Open a terminal to build and flash the firmware on the iotlab-m3\n",
    "\n",
    "1. Open a Jupyter terminal (use `File > New > Terminal`) and run the following commands from it."
   ]
  },
  {
   "cell_type": "raw",
   "metadata": {},
   "source": [
    "ssh $IOTLAB_LOGIN@$SITE.iot-lab.info"
   ]
  },
  {
   "cell_type": "markdown",
   "metadata": {},
   "source": [
    "The following command needs to be run ONLY once"
   ]
  },
  {
   "cell_type": "raw",
   "metadata": {},
   "source": [
    "git clone https://github.com/RIOT-OS/RIOT.git -b 2020.10-branch"
   ]
  },
  {
   "cell_type": "markdown",
   "metadata": {},
   "source": [
    "### We will use 3 distrinct terminals T\\#{1,2,3}"
   ]
  },
  {
   "cell_type": "markdown",
   "metadata": {},
   "source": [
    "#### T\\#1 iotlab-m3 (Border Router)\n",
    "Execute the following commands, by replacing the \\<PLACEHOLDERS> with real info:"
   ]
  },
  {
   "cell_type": "markdown",
   "metadata": {},
   "source": [
    "`source /opt/riot.source`"
   ]
  },
  {
   "cell_type": "markdown",
   "metadata": {},
   "source": [
    "`cd RIOT`"
   ]
  },
  {
   "cell_type": "markdown",
   "metadata": {},
   "source": [
    "`make ETHOS_BAUDRATE=500000 DEFAULT_CHANNEL=<CHANNEL> BOARD=iotlab-m3 -C examples/gnrc_border_router clean all`"
   ]
  },
  {
   "cell_type": "markdown",
   "metadata": {},
   "source": [
    "`iotlab-node --flash examples/gnrc_border_router/bin/iotlab-m3/gnrc_border_router.elf -l saclay,m3,<ID>`"
   ]
  },
  {
   "cell_type": "markdown",
   "metadata": {},
   "source": [
    "`sudo ethos_uhcpd.py m3-<ID> tap<K> 2001:660:3207:04c1::1/64`"
   ]
  },
  {
   "cell_type": "markdown",
   "metadata": {},
   "source": [
    "#### T\\#2 iotlab-a8 (MQTT broker)\n",
    "Execute the following commands:"
   ]
  },
  {
   "cell_type": "markdown",
   "metadata": {},
   "source": [
    "From your local machine, use the following command from the /etc/mosquitto/ directory:"
   ]
  },
  {
   "cell_type": "markdown",
   "metadata": {},
   "source": [
    "`scp -r certs/ <login>@saclay.iot-lab.info:~/A8`"
   ]
  },
  {
   "cell_type": "markdown",
   "metadata": {},
   "source": [
    "Create the following files inside the A8 folder:"
   ]
  },
  {
   "cell_type": "markdown",
   "metadata": {},
   "source": [
    "1) config.conf"
   ]
  },
  {
   "cell_type": "raw",
   "metadata": {},
   "source": [
    "# add some debug output\n",
    "trace_output protocol\n",
    "   \n",
    "# listen for MQTT-SN traffic on UDP port 1885\n",
    "listener 1885 INADDR_ANY mqtts\n",
    "  ipv6 true\n",
    "   \n",
    "# listen to MQTT connections on tcp port 1886\n",
    "listener 1886 INADDR_ANY\n",
    "\n",
    "connection local_bridge_to_mosquitto\n",
    "    address 127.0.0.1:1883\n",
    "    topic localgateway_to_awsiot out\n",
    "    topic awsiot_to_localgateway in\n",
    "    topic both_directions both"
   ]
  },
  {
   "cell_type": "markdown",
   "metadata": {},
   "source": [
    "2) mosquitto.conf"
   ]
  },
  {
   "cell_type": "raw",
   "metadata": {},
   "source": [
    "# Place your local configuration in /etc/mosquitto/conf.d/\n",
    "#\n",
    "# A full description of the configuration file is at\n",
    "# /usr/share/doc/mosquitto/examples/mosquitto.conf.example\n",
    "\n",
    "pid_file /var/run/mosquitto.pid\n",
    "\n",
    "persistence true\n",
    "persistence_location /var/lib/mosquitto/\n",
    "\n",
    "log_dest file /var/log/mosquitto/mosquitto.log\n",
    "\n",
    "include_dir /etc/mosquitto/conf.d\n"
   ]
  },
  {
   "cell_type": "markdown",
   "metadata": {},
   "source": [
    "3) bridge.conf"
   ]
  },
  {
   "cell_type": "raw",
   "metadata": {},
   "source": [
    "# ============================================================\n",
    "# Bridge to AWS IOT\n",
    "# ============================================================\n",
    "\n",
    "connection awsiot\n",
    "\n",
    "#<Paste your AWS IoT Core ATS endpoint retrieved from the AWS CLI in the form of xxxxxxxxxxxxxxx-ats.iot.<region>.amazonaws.com:8883\n",
    "\n",
    "address <OWN_ATS>.iot.us-east-1.amazonaws.com:8883\n",
    "\n",
    "# Specifying which topics are bridged and in what fashion\n",
    "topic awsiot_to_localgateway in 1\n",
    "topic localgateway_to_awsiot out 1\n",
    "topic both_directions both 1\n",
    "\n",
    "# Setting protocol version explicitly\n",
    "bridge_protocol_version mqttv311\n",
    "bridge_insecure false\n",
    "\n",
    "# Bridge connection name and MQTT client Id, enabling the connection automatically when the broker starts.\n",
    "cleansession true\n",
    "clientid bridgeawsiot\n",
    "start_type automatic\n",
    "notifications false\n",
    "log_type all\n",
    "\n",
    "# ============================================================\n",
    "# Certificate based SSL/TLS support\n",
    "# ============================================================\n",
    "\n",
    "#Path to the rootCA\n",
    "bridge_cafile /etc/mosquitto/certs/root-CA.crt\n",
    "\n",
    "# Path to the PEM encoded client certificate\n",
    "bridge_certfile /etc/mosquitto/certs/mqtt-bridge.cert.pem\n",
    "\n",
    "# Path to the PEM encoded client private key\n",
    "bridge_keyfile /etc/mosquitto/certs/mqtt-bridge.private.key\n",
    "\n",
    "#END of bridge.conf\n"
   ]
  },
  {
   "cell_type": "markdown",
   "metadata": {},
   "source": [
    "`ssh root@node-a8-<ID>`\n"
   ]
  },
  {
   "cell_type": "markdown",
   "metadata": {},
   "source": [
    "`cd A8`"
   ]
  },
  {
   "cell_type": "markdown",
   "metadata": {},
   "source": [
    "`cp -r certs /etc/mosquitto && cp mosquitto.conf /etc/mosquitto && mkdir /etc/mosquitto/conf.d && cp bridge.conf /etc/mosquitto/conf.d`"
   ]
  },
  {
   "cell_type": "markdown",
   "metadata": {},
   "source": [
    "`mkdir /var/log/mosquitto && touch /var/log/mosquitto/mosquitto.log && chmod 666 /var/log/mosquitto/mosquitto.log`"
   ]
  },
  {
   "cell_type": "markdown",
   "metadata": {},
   "source": [
    "`/usr/sbin/mosquitto -c /etc/mosquitto/mosquitto.conf &`"
   ]
  },
  {
   "cell_type": "markdown",
   "metadata": {},
   "source": [
    "`ip -6 -o addr show eth0` // TO GET THE IP Address of the MQTT broker"
   ]
  },
  {
   "cell_type": "markdown",
   "metadata": {},
   "source": [
    "`broker_mqtts config.conf`"
   ]
  },
  {
   "cell_type": "markdown",
   "metadata": {},
   "source": [
    "#### T\\#3 iotlab-m3 (IoT application)\n",
    "For all the remaining reserved m3 nodes, execute the following commands:"
   ]
  },
  {
   "cell_type": "markdown",
   "metadata": {},
   "source": [
    "`source /opt/riot.source`"
   ]
  },
  {
   "cell_type": "markdown",
   "metadata": {},
   "source": [
    "`cd IoT-2021-Individual-Assigments/dev/`"
   ]
  },
  {
   "cell_type": "markdown",
   "metadata": {},
   "source": [
    "`make DEFAULT_CHANNEL=<CHANNEL> SERVER_ADDR=<MQTT_SERVER_ADDR> EMCUTE_ID=power_saver<K> BOARD=iotlab-m3 -C . clean all`"
   ]
  },
  {
   "cell_type": "markdown",
   "metadata": {},
   "source": [
    "`iotlab-node --flash ./bin/iotlab-m3/assignment2.bin -l saclay,m3,<ID>`"
   ]
  },
  {
   "cell_type": "markdown",
   "metadata": {},
   "source": [
    "Eventually, nc to the node\\[s\\] to see if everything works fine:"
   ]
  },
  {
   "cell_type": "markdown",
   "metadata": {},
   "source": [
    "`nc m3-<ID> 20000`"
   ]
  },
  {
   "cell_type": "markdown",
   "metadata": {},
   "source": [
    "### Free up the resources\n",
    "\n",
    "Once done, stop your experiment to free up the experiment nodes:"
   ]
  },
  {
   "cell_type": "code",
   "execution_count": null,
   "metadata": {},
   "outputs": [],
   "source": [
    "!iotlab-experiment stop"
   ]
  },
  {
   "cell_type": "markdown",
   "metadata": {},
   "source": [
    "## Performance Evaluation"
   ]
  },
  {
   "cell_type": "code",
   "execution_count": null,
   "metadata": {},
   "outputs": [],
   "source": [
    "!unzip perf.zip"
   ]
  },
  {
   "cell_type": "code",
   "execution_count": null,
   "metadata": {},
   "outputs": [],
   "source": [
    "!ls perf/tst3/266481/consumption"
   ]
  },
  {
   "cell_type": "code",
   "execution_count": null,
   "metadata": {},
   "outputs": [],
   "source": [
    "import pandas"
   ]
  },
  {
   "cell_type": "code",
   "execution_count": null,
   "metadata": {},
   "outputs": [],
   "source": [
    "dataset = pandas.read_csv(\"./perf/tst3/266481/consumption/m3_12.oml\", sep='\\t', skiprows=9, header=0, names=[\"timestamp_s\", \"timestamp_us\", 'ign1', 'ign2', \"power\", \"voltage\", \"current\"])"
   ]
  },
  {
   "cell_type": "code",
   "execution_count": null,
   "metadata": {},
   "outputs": [],
   "source": [
    "dataset"
   ]
  },
  {
   "cell_type": "code",
   "execution_count": null,
   "metadata": {},
   "outputs": [],
   "source": [
    "ax = dataset.power.plot(figsize=(14,4), label='Power (W)')\n",
    "ax.set_ylabel('Power (W)')\n",
    "ax.set_xlabel('Time (ms)')"
   ]
  },
  {
   "cell_type": "code",
   "execution_count": null,
   "metadata": {},
   "outputs": [],
   "source": [
    "ax = dataset.current.plot(figsize=(14,4), label='Current (mAh)')\n",
    "ax.set_ylabel('Current (mAh)')\n",
    "ax.set_xlabel('Time (ms)')"
   ]
  },
  {
   "cell_type": "code",
   "execution_count": null,
   "metadata": {},
   "outputs": [],
   "source": [
    "ax = dataset.voltage.plot(figsize=(14,4), label='Voltage (V)')\n",
    "ax.set_ylabel('Voltage (V)')\n",
    "ax.set_xlabel('Time (ms)')"
   ]
  },
  {
   "cell_type": "code",
   "execution_count": null,
   "metadata": {},
   "outputs": [],
   "source": [
    "!ls perf/tst1/266474/radio"
   ]
  },
  {
   "cell_type": "code",
   "execution_count": null,
   "metadata": {},
   "outputs": [],
   "source": [
    "dataset2 = pandas.read_csv(\"./perf/tst3/266481/radio/m3_12.oml\", sep='\\t', skiprows=9, header=0, names=[\"timestamp_s\", \"timestamp_us\", \"channel\", \"rssi\"])"
   ]
  },
  {
   "cell_type": "code",
   "execution_count": null,
   "metadata": {},
   "outputs": [],
   "source": [
    "dataset2"
   ]
  },
  {
   "cell_type": "code",
   "execution_count": null,
   "metadata": {},
   "outputs": [],
   "source": [
    "ax = dataset2.rssi.plot(figsize=(14,4), label='RSSI (dBm)')\n",
    "ax.set_ylabel('RSSI (dBm)')\n"
   ]
  }
 ],
 "metadata": {
  "kernelspec": {
   "display_name": "Python 3",
   "language": "python",
   "name": "python3"
  },
  "language_info": {
   "codemirror_mode": {
    "name": "ipython",
    "version": 3
   },
   "file_extension": ".py",
   "mimetype": "text/x-python",
   "name": "python",
   "nbconvert_exporter": "python",
   "pygments_lexer": "ipython3",
   "version": "3.8.6"
  }
 },
 "nbformat": 4,
 "nbformat_minor": 4
}
